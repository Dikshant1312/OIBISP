{
 "cells": [
  {
   "cell_type": "code",
   "execution_count": 1,
   "id": "5e76f2c8",
   "metadata": {},
   "outputs": [],
   "source": [
    "#Dikshant buwa\n",
    "import pandas as pd\n",
    "df=pd.read_csv(\"C:/Users/ADMIN/OneDrive/Desktop/Courses_Internships_Certificates/OasisInfobyte/DataScience/iris.csv\")\n",
    "from sklearn.preprocessing import LabelEncoder\n",
    "from sklearn.ensemble import RandomForestClassifier\n",
    "from sklearn.linear_model import LogisticRegression\n",
    "from sklearn.ensemble import GradientBoostingClassifier\n",
    "from sklearn.tree import DecisionTreeClassifier\n",
    "from sklearn import svm\n",
    "from sklearn.neural_network import MLPClassifier\n",
    "from sklearn.naive_bayes import MultinomialNB\n",
    "#from sklearn.naive_bayes import GaussianNB(opt)\n",
    "#from sklearn.naive_bayes import BernoulliNB(opt)\n",
    "from sklearn.model_selection import train_test_split\n",
    "from sklearn.metrics import accuracy_score\n",
    "#from sklearn.metrics import precision_score"
   ]
  },
  {
   "cell_type": "code",
   "execution_count": 2,
   "id": "58c14f65",
   "metadata": {},
   "outputs": [],
   "source": [
    "rf=RandomForestClassifier(random_state=1)\n",
    "logr=LogisticRegression(random_state=0)\n",
    "GBC=GradientBoostingClassifier(n_estimators=10)\n",
    "DTC=DecisionTreeClassifier(random_state=0)\n",
    "SVM=svm.SVC()\n",
    "nn=MLPClassifier(solver='lbfgs',alpha=1e-5,hidden_layer_sizes=(5,2),random_state=0)\n",
    "mnb=MultinomialNB()"
   ]
  },
  {
   "cell_type": "code",
   "execution_count": 3,
   "id": "3c7318a1",
   "metadata": {},
   "outputs": [
    {
     "name": "stdout",
     "output_type": "stream",
     "text": [
      "60     Iris-versicolor\n",
      "116     Iris-virginica\n",
      "144     Iris-virginica\n",
      "119     Iris-virginica\n",
      "108     Iris-virginica\n",
      "            ...       \n",
      "9          Iris-setosa\n",
      "103     Iris-virginica\n",
      "67     Iris-versicolor\n",
      "117     Iris-virginica\n",
      "47         Iris-setosa\n",
      "Name: Species, Length: 105, dtype: object\n"
     ]
    }
   ],
   "source": [
    "X=df.drop('Species',axis=1)\n",
    "Y=df['Species']\n",
    "X_train,X_test,Y_train,Y_test=train_test_split(X,Y,random_state=0,test_size=0.3)\n",
    "#print(X_train)\n",
    "#print(X_test)\n",
    "print(Y_train)\n",
    "#print(Y_test)"
   ]
  },
  {
   "cell_type": "code",
   "execution_count": 4,
   "id": "77e56ac6",
   "metadata": {},
   "outputs": [
    {
     "name": "stderr",
     "output_type": "stream",
     "text": [
      "C:\\Users\\ADMIN\\anaconda3\\lib\\site-packages\\sklearn\\linear_model\\_logistic.py:814: ConvergenceWarning: lbfgs failed to converge (status=1):\n",
      "STOP: TOTAL NO. of ITERATIONS REACHED LIMIT.\n",
      "\n",
      "Increase the number of iterations (max_iter) or scale the data as shown in:\n",
      "    https://scikit-learn.org/stable/modules/preprocessing.html\n",
      "Please also refer to the documentation for alternative solver options:\n",
      "    https://scikit-learn.org/stable/modules/linear_model.html#logistic-regression\n",
      "  n_iter_i = _check_optimize_result(\n"
     ]
    },
    {
     "name": "stdout",
     "output_type": "stream",
     "text": [
      "LR:\n",
      "1.0\n",
      "MNB:\n",
      "0.8222222222222222\n",
      "GBC:\n",
      "0.9777777777777777\n",
      "DTC:\n",
      "0.9777777777777777\n",
      "SVM:\n",
      "1.0\n",
      "nn:\n",
      "0.9777777777777777\n",
      "rf:\n",
      "1.0\n"
     ]
    }
   ],
   "source": [
    "train=logr.fit(X_train,Y_train)\n",
    "Y_pred=logr.predict(X_test)\n",
    "print(\"LR:\")\n",
    "print(accuracy_score(Y_test,Y_pred))\n",
    "#print(precision_score(Y_test,Y_pred))\n",
    "\n",
    "train=mnb.fit(X_train,Y_train)\n",
    "Y_pred1=mnb.predict(X_test)\n",
    "print(\"MNB:\")\n",
    "print(accuracy_score(Y_test,Y_pred1))\n",
    "\n",
    "train=GBC.fit(X_train,Y_train)\n",
    "Y_pred2=GBC.predict(X_test)\n",
    "print(\"GBC:\")\n",
    "print(accuracy_score(Y_test,Y_pred2))\n",
    "\n",
    "\n",
    "train=DTC.fit(X_train,Y_train)\n",
    "Y_pred3=DTC.predict(X_test)\n",
    "print(\"DTC:\")\n",
    "print(accuracy_score(Y_test,Y_pred3))\n",
    "\n",
    "train=SVM.fit(X_train,Y_train)\n",
    "Y_pred4=SVM.predict(X_test)\n",
    "print(\"SVM:\")\n",
    "print(accuracy_score(Y_test,Y_pred4))\n",
    "\n",
    "train=nn.fit(X_train,Y_train)\n",
    "Y_pred5=nn.predict(X_test)\n",
    "print(\"nn:\")\n",
    "print(accuracy_score(Y_test,Y_pred5))\n",
    "\n",
    "train=rf.fit(X_train,Y_train)\n",
    "Y_pred6=rf.predict(X_test)\n",
    "print(\"rf:\")\n",
    "print(accuracy_score(Y_test,Y_pred6))\n"
   ]
  },
  {
   "cell_type": "code",
   "execution_count": null,
   "id": "3d853028",
   "metadata": {},
   "outputs": [],
   "source": []
  }
 ],
 "metadata": {
  "kernelspec": {
   "display_name": "Python 3 (ipykernel)",
   "language": "python",
   "name": "python3"
  },
  "language_info": {
   "codemirror_mode": {
    "name": "ipython",
    "version": 3
   },
   "file_extension": ".py",
   "mimetype": "text/x-python",
   "name": "python",
   "nbconvert_exporter": "python",
   "pygments_lexer": "ipython3",
   "version": "3.9.7"
  }
 },
 "nbformat": 4,
 "nbformat_minor": 5
}
